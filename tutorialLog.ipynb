{
 "cells": [
  {
   "cell_type": "markdown",
   "metadata": {},
   "source": [
    "# Numerical Integration to find natural log of any number using C language program. Without using math.h header file."
   ]
  },
  {
   "cell_type": "markdown",
   "metadata": {},
   "source": [
    "## In this demonstration i will use Simpson's rule for numerical integration."
   ]
  },
  {
   "cell_type": "markdown",
   "metadata": {},
   "source": [
    "You can check out below link to understand Simpson's rule.\n",
    "\n",
    "[Why Simpson's rule works.](https://www.intmath.com/integration/6-simpsons-rule.php \"Simpson's Rule\")"
   ]
  },
  {
   "cell_type": "markdown",
   "metadata": {},
   "source": [
    "Area = $\\frac{h}{3}(y_0 + 4y_1 + 2y_2 + 4y_3 + 2y_4 + \\dots + 2y_{n-2} + 4y_{n-1} + y_n)$\n",
    "\n",
    "$h=\\frac{b-a}{n}$\n",
    "\n",
    "Here h is interval length and is equal to b minus a divided by n. n is number of intervals.\n",
    "\n",
    "Note: coefficient of $y_1$ and $y_{n-1}$ should always be four for rule to work. Therefor value of n must always be even."
   ]
  },
  {
   "cell_type": "markdown",
   "metadata": {},
   "source": [
    "Natural log can expressed as an integral as follows\n",
    "\n",
    "$log_{e}{x} = \\int\\limits_{1}^{x}\\!\\frac{1}{t}dt$\n",
    "\n",
    "To find the natural log of any number, for example 3 we will compute\n",
    "\n",
    "$log_{e}{3} = \\int\\limits_{1}^{3}\\!\\frac{1}{t}dt$\n",
    "\n",
    "Here is the following c code which computes this integral for any number.\n",
    "\n",
    "```\n",
    "#include <stdio.h>\n",
    "void naturalLog(double *, int accuracy); // Prototype of function, to be used later.\n",
    "int main()\n",
    "{\n",
    "    double l; // Variable which stores the number whose log is to be calculated.\n",
    "    int intervals; // Stores the value of number of intervals.\n",
    "    printf(\"Enter the number to calculate natural log and even number of intervals with space between the two.\\n\");\n",
    "    scanf(\"%lf %d\", &l, &intervals);\n",
    "    if (l < 0)\n",
    "    {\n",
    "        printf(\"log is not defined for negative numbers\\n\");\n",
    "        return 0; // If users enters a negative number than function returns zero value and program gets terminated.\n",
    "    }\n",
    "    else\n",
    "        naturalLog(&l, intervals);\n",
    "    printf(\"ans is %lf\\n\", l); // This print statement prints required answer because it's contents has been modified by function.\n",
    "    return (0);\n",
    "}\n",
    "\n",
    "void naturalLog(double *y, int n)\n",
    "{\n",
    "    int i;\n",
    "    double h = (*y - 1) / n;\n",
    "    double w = (1 + h);\n",
    "    double store = 0.0;\n",
    "    int toggle = 1;\n",
    "    // In these for loop if and else statements are used alternatively for the terms multiplied 4 and 2 respectively \n",
    "    for (i = 1; i < (n); i++)\n",
    "    {\n",
    "        if (toggle)\n",
    "        {\n",
    "            store = store + 4 * (1 / w);\n",
    "            toggle--;\n",
    "        }\n",
    "        else\n",
    "        {\n",
    "            store = store + 2 * (1 / w);\n",
    "            toggle++;\n",
    "        }\n",
    "        w = w + h;\n",
    "    }\n",
    "    store = (h / 3.0) * (store + 1 + (1 / (*y))); // Here remaining first and last term is added separatly.\n",
    "    *y = store; // Result of whole computation is stored in the memory address of variable l.\n",
    "}\n",
    "\n",
    "\n",
    "```"
   ]
  },
  {
   "cell_type": "markdown",
   "metadata": {},
   "source": [
    "# Download this file from the discription of this video."
   ]
  },
  {
   "cell_type": "markdown",
   "metadata": {},
   "source": [
    "Now let's see how this program runs."
   ]
  },
  {
   "cell_type": "markdown",
   "metadata": {},
   "source": [
    "Now let's check with calculator"
   ]
  },
  {
   "cell_type": "markdown",
   "metadata": {},
   "source": [
    "Now for values less then one and negative values."
   ]
  },
  {
   "cell_type": "markdown",
   "metadata": {},
   "source": [
    "This is the file shown in vim text editor."
   ]
  },
  {
   "cell_type": "markdown",
   "metadata": {},
   "source": [
    "Good Bye"
   ]
  },
  {
   "cell_type": "code",
   "execution_count": null,
   "metadata": {},
   "outputs": [],
   "source": []
  }
 ],
 "metadata": {
  "kernelspec": {
   "display_name": "Python 3",
   "language": "python",
   "name": "python3"
  },
  "language_info": {
   "codemirror_mode": {
    "name": "ipython",
    "version": 3
   },
   "file_extension": ".py",
   "mimetype": "text/x-python",
   "name": "python",
   "nbconvert_exporter": "python",
   "pygments_lexer": "ipython3",
   "version": "3.8.3"
  }
 },
 "nbformat": 4,
 "nbformat_minor": 4
}
